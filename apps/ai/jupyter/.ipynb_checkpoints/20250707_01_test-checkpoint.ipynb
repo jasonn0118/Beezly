{
 "cells": [
  {
   "cell_type": "code",
   "execution_count": 2,
   "id": "b4ccc8b1-6bd2-4bad-915e-fb2c431317eb",
   "metadata": {},
   "outputs": [
    {
     "data": {
      "application/vnd.jupyter.widget-view+json": {
       "model_id": "b87e03b604814bc1a2f116f3aaaab173",
       "version_major": 2,
       "version_minor": 0
      },
      "text/plain": [
       "Fetching 25 files:   0%|          | 0/25 [00:00<?, ?it/s]"
      ]
     },
     "metadata": {},
     "output_type": "display_data"
    },
    {
     "name": "stdout",
     "output_type": "stream",
     "text": [
      "Model downloaded to: /Users/jiwonkim/.cache/huggingface/hub/models--openfoodfacts--price-tag-detection/snapshots/d0fb6866d16e9a6dbaf4c1b894b8b948df673304\n"
     ]
    }
   ],
   "source": [
    "from huggingface_hub import snapshot_download\n",
    "\n",
    "# Download the entire model repository\n",
    "# This will download all files to a local cache directory\n",
    "model_dir = snapshot_download(repo_id=\"openfoodfacts/price-tag-detection\")\n",
    "\n",
    "print(f\"Model downloaded to: {model_dir}\")"
   ]
  },
  {
   "cell_type": "markdown",
   "id": "f5045c0a-cc0a-43bf-a42a-8a4752b1bc4c",
   "metadata": {},
   "source": [
    "# Price Tag Detection"
   ]
  },
  {
   "cell_type": "code",
   "execution_count": 3,
   "id": "8ceebadc-7ab1-4101-b044-b5d0b97d2dd7",
   "metadata": {},
   "outputs": [
    {
     "name": "stdout",
     "output_type": "stream",
     "text": [
      "/Users/jiwonkim/.cache/huggingface/hub/models--openfoodfacts--price-tag-detection/snapshots/d0fb6866d16e9a6dbaf4c1b894b8b948df673304\n"
     ]
    }
   ],
   "source": [
    "print(model_dir)"
   ]
  },
  {
   "cell_type": "code",
   "execution_count": 1,
   "id": "e778f9a0-b908-4f82-8e9d-7ea41b25f1d1",
   "metadata": {},
   "outputs": [
    {
     "ename": "ModuleNotFoundError",
     "evalue": "No module named 'ultralytics'",
     "output_type": "error",
     "traceback": [
      "\u001b[31m---------------------------------------------------------------------------\u001b[39m",
      "\u001b[31mModuleNotFoundError\u001b[39m                       Traceback (most recent call last)",
      "\u001b[36mCell\u001b[39m\u001b[36m \u001b[39m\u001b[32mIn[1]\u001b[39m\u001b[32m, line 1\u001b[39m\n\u001b[32m----> \u001b[39m\u001b[32m1\u001b[39m \u001b[38;5;28;01mfrom\u001b[39;00m\u001b[38;5;250m \u001b[39m\u001b[34;01multralytics\u001b[39;00m\u001b[38;5;250m \u001b[39m\u001b[38;5;28;01mimport\u001b[39;00m YOLO\n\u001b[32m      2\u001b[39m model = YOLO(\u001b[33mf\u001b[39m\u001b[33m\"\u001b[39m\u001b[38;5;132;01m{\u001b[39;00mmodel_dir\u001b[38;5;132;01m}\u001b[39;00m\u001b[33m/weights/best.pt\u001b[39m\u001b[33m\"\u001b[39m)\n",
      "\u001b[31mModuleNotFoundError\u001b[39m: No module named 'ultralytics'"
     ]
    }
   ],
   "source": [
    "from ultralytics import YOLO\n",
    "model = YOLO(f\"{model_dir}/weights/best.pt\")"
   ]
  },
  {
   "cell_type": "code",
   "execution_count": 7,
   "id": "80b28f08-a622-4245-b181-55130f8bcfcd",
   "metadata": {},
   "outputs": [],
   "source": [
    "image_list = ['./Google_Shoppers_pricetag01.jpg']"
   ]
  },
  {
   "cell_type": "code",
   "execution_count": 8,
   "id": "93f547bc-55de-4fae-90f3-bd178c15796f",
   "metadata": {},
   "outputs": [
    {
     "name": "stdout",
     "output_type": "stream",
     "text": [
      "\n",
      "0: 960x736 1 price-tag, 450.8ms\n",
      "Speed: 5.3ms preprocess, 450.8ms inference, 1.2ms postprocess per image at shape (1, 3, 960, 736)\n",
      "Results saved to \u001b[1mtest/predict\u001b[0m\n"
     ]
    }
   ],
   "source": [
    "results = model.predict(image_list, conf=0.1, save=True, project=f\"./test\")  # or with a list of image paths"
   ]
  },
  {
   "cell_type": "code",
   "execution_count": null,
   "id": "de7fa0be-b668-42ea-98b6-f5ec987d6c07",
   "metadata": {},
   "outputs": [],
   "source": [
    "image_list = ['./Pinterest_receipt_lowe_wrinkled.jpg.jpg']"
   ]
  }
 ],
 "metadata": {
  "kernelspec": {
   "display_name": "production-langgraph",
   "language": "python",
   "name": "production-langgraph"
  },
  "language_info": {
   "codemirror_mode": {
    "name": "ipython",
    "version": 3
   },
   "file_extension": ".py",
   "mimetype": "text/x-python",
   "name": "python",
   "nbconvert_exporter": "python",
   "pygments_lexer": "ipython3",
   "version": "3.12.7"
  }
 },
 "nbformat": 4,
 "nbformat_minor": 5
}
